{
 "cells": [
  {
   "cell_type": "code",
   "execution_count": 1,
   "id": "62bb2ded",
   "metadata": {
    "ExecuteTime": {
     "end_time": "2023-01-03T13:46:36.807395Z",
     "start_time": "2023-01-03T13:46:36.318701Z"
    }
   },
   "outputs": [],
   "source": [
    "import numpy as np"
   ]
  },
  {
   "cell_type": "code",
   "execution_count": 17,
   "id": "85517618",
   "metadata": {
    "ExecuteTime": {
     "end_time": "2023-01-03T13:53:58.457275Z",
     "start_time": "2023-01-03T13:53:58.449185Z"
    }
   },
   "outputs": [],
   "source": [
    "import torch\n",
    "import numpy as np\n",
    "\n",
    "def mnist():\n",
    "    # exchange with the corrupted mnist dataset\n",
    "    train = np.load(\"./corruptmnist/train_0.npz\")\n",
    "    train_tensor_img = torch.from_numpy(train['images'])\n",
    "    train_tensor_labels = torch.from_numpy(train['labels'])\n",
    "    print(train_tensor)\n",
    "    \n",
    "    test = np.load(\"./corruptmnist/test.npz\")\n",
    "    test_tensor_img = torch.from_numpy(test['images'])\n",
    "    test_tensor_labels = torch.from_numpy(test['labels'])\n",
    "\n",
    "    return train, test\n"
   ]
  },
  {
   "cell_type": "code",
   "execution_count": 18,
   "id": "0aa52c15",
   "metadata": {
    "ExecuteTime": {
     "end_time": "2023-01-03T13:53:59.891865Z",
     "start_time": "2023-01-03T13:53:58.978040Z"
    }
   },
   "outputs": [
    {
     "ename": "TypeError",
     "evalue": "expected np.ndarray (got NpzFile)",
     "output_type": "error",
     "traceback": [
      "\u001b[0;31m---------------------------------------------------------------------------\u001b[0m",
      "\u001b[0;31mTypeError\u001b[0m                                 Traceback (most recent call last)",
      "\u001b[0;32m/tmp/pbs.221150.hnode41/ipykernel_44432/4110988595.py\u001b[0m in \u001b[0;36m<module>\u001b[0;34m\u001b[0m\n\u001b[0;32m----> 1\u001b[0;31m \u001b[0mmnist\u001b[0m\u001b[0;34m(\u001b[0m\u001b[0;34m)\u001b[0m\u001b[0;34m\u001b[0m\u001b[0;34m\u001b[0m\u001b[0m\n\u001b[0m",
      "\u001b[0;32m/tmp/pbs.221150.hnode41/ipykernel_44432/761021955.py\u001b[0m in \u001b[0;36mmnist\u001b[0;34m()\u001b[0m\n\u001b[1;32m      7\u001b[0m \u001b[0;31m#     train_tensor_img = torch.from_numpy(train['images'])\u001b[0m\u001b[0;34m\u001b[0m\u001b[0;34m\u001b[0m\u001b[0;34m\u001b[0m\u001b[0m\n\u001b[1;32m      8\u001b[0m \u001b[0;31m#     train_tensor_labels = torch.from_numpy(train['labels'])\u001b[0m\u001b[0;34m\u001b[0m\u001b[0;34m\u001b[0m\u001b[0;34m\u001b[0m\u001b[0m\n\u001b[0;32m----> 9\u001b[0;31m     \u001b[0mtrain_tensor\u001b[0m \u001b[0;34m=\u001b[0m \u001b[0mtorch\u001b[0m\u001b[0;34m.\u001b[0m\u001b[0mfrom_numpy\u001b[0m\u001b[0;34m(\u001b[0m\u001b[0mtrain\u001b[0m\u001b[0;34m)\u001b[0m\u001b[0;34m\u001b[0m\u001b[0;34m\u001b[0m\u001b[0m\n\u001b[0m\u001b[1;32m     10\u001b[0m     \u001b[0mprint\u001b[0m\u001b[0;34m(\u001b[0m\u001b[0mtrain_tensor\u001b[0m\u001b[0;34m)\u001b[0m\u001b[0;34m\u001b[0m\u001b[0;34m\u001b[0m\u001b[0m\n\u001b[1;32m     11\u001b[0m \u001b[0;34m\u001b[0m\u001b[0m\n",
      "\u001b[0;31mTypeError\u001b[0m: expected np.ndarray (got NpzFile)"
     ]
    }
   ],
   "source": [
    "mnist()"
   ]
  },
  {
   "cell_type": "code",
   "execution_count": null,
   "id": "ef2ac441",
   "metadata": {},
   "outputs": [],
   "source": []
  }
 ],
 "metadata": {
  "kernelspec": {
   "display_name": "Python 3 (ipykernel)",
   "language": "python",
   "name": "python3"
  },
  "language_info": {
   "codemirror_mode": {
    "name": "ipython",
    "version": 3
   },
   "file_extension": ".py",
   "mimetype": "text/x-python",
   "name": "python",
   "nbconvert_exporter": "python",
   "pygments_lexer": "ipython3",
   "version": "3.8.8"
  },
  "toc": {
   "base_numbering": 1,
   "nav_menu": {},
   "number_sections": true,
   "sideBar": true,
   "skip_h1_title": false,
   "title_cell": "Table of Contents",
   "title_sidebar": "Contents",
   "toc_cell": false,
   "toc_position": {},
   "toc_section_display": true,
   "toc_window_display": false
  }
 },
 "nbformat": 4,
 "nbformat_minor": 5
}
