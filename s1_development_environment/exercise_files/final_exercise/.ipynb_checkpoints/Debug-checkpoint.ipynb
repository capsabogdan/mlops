{
 "cells": [
  {
   "cell_type": "code",
   "execution_count": 1,
   "id": "00e70879",
   "metadata": {
    "ExecuteTime": {
     "end_time": "2023-01-03T13:46:36.807395Z",
     "start_time": "2023-01-03T13:46:36.318701Z"
    }
   },
   "outputs": [],
   "source": [
    "import numpy as np"
   ]
  },
  {
   "cell_type": "code",
   "execution_count": null,
   "id": "b7a233f4",
   "metadata": {},
   "outputs": [],
   "source": [
    "import torch\n",
    "import numpy as np\n",
    "\n",
    "def mnist():\n",
    "    # exchange with the corrupted mnist dataset\n",
    "    train = np.load(\"./corruptmnist/train*.npz\")\n",
    "    \n",
    "    test = np.load(\"./corruptmnist/test.npz\")\n",
    "    #train = torch.randn(50000, 784)\n",
    "    #test = torch.randn(10000, 784) \n",
    "    return train, test\n",
    "\n",
    "mnist()\n"
   ]
  }
 ],
 "metadata": {
  "kernelspec": {
   "display_name": "Python 3 (ipykernel)",
   "language": "python",
   "name": "python3"
  },
  "language_info": {
   "codemirror_mode": {
    "name": "ipython",
    "version": 3
   },
   "file_extension": ".py",
   "mimetype": "text/x-python",
   "name": "python",
   "nbconvert_exporter": "python",
   "pygments_lexer": "ipython3",
   "version": "3.8.8"
  },
  "toc": {
   "base_numbering": 1,
   "nav_menu": {},
   "number_sections": true,
   "sideBar": true,
   "skip_h1_title": false,
   "title_cell": "Table of Contents",
   "title_sidebar": "Contents",
   "toc_cell": false,
   "toc_position": {},
   "toc_section_display": true,
   "toc_window_display": false
  }
 },
 "nbformat": 4,
 "nbformat_minor": 5
}
